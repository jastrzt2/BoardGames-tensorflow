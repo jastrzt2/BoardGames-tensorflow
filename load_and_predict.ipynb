{
 "cells": [
  {
   "cell_type": "code",
   "execution_count": 14,
   "metadata": {},
   "outputs": [],
   "source": [
    "import os\n",
    "import numpy as np\n",
    "import pandas as pd\n",
    "import matplotlib.pyplot as plt\n",
    "import tensorflow as tf\n",
    "from tensorflow import keras\n",
    "from tensorflow.keras import layers, callbacks\n",
    "from tensorflow.keras.callbacks import ModelCheckpoint\n",
    "from sklearn.model_selection import train_test_split\n",
    "from sklearn.preprocessing import StandardScaler\n",
    "from sklearn.exceptions import ConvergenceWarning\n",
    "import warnings\n",
    "from tensorflow.keras.models import Sequential\n",
    "from tensorflow.keras import layers\n",
    "from tensorflow.keras.callbacks import ModelCheckpoint\n",
    "from tensorflow.keras.metrics import MeanAbsoluteError\n",
    "\n",
    "warnings.filterwarnings(\"ignore\", category=ConvergenceWarning)\n",
    "\n",
    "data = pd.read_csv('./bg_info.csv')\n",
    "data = data.drop(columns=['Type 2', 'Price'])\n",
    "data = data.loc[data.drop(columns=['Type 1']).notnull().all(axis=1)]\n",
    "data['ToRemove'] = False\n",
    "\n",
    "def mark_outliers_quantile(df, column):\n",
    "    Q1, Q3 = df[column].quantile([0.25, 0.75])\n",
    "    IQR = Q3 - Q1\n",
    "    lower, upper = Q1 - 1.5 * IQR, Q3 + 1.5 * IQR\n",
    "    df.loc[(df[column] < lower) | (df[column] > upper), 'ToRemove'] = True\n",
    "\n",
    "def mark_outliers_sigma(df, column):\n",
    "    mean, std = df[column].mean(), df[column].std()\n",
    "    lower, upper = mean - 3 * std, mean + 3 * std\n",
    "    df.loc[(df[column] < lower) | (df[column] > upper), 'ToRemove'] = True\n",
    "\n",
    "quantile_columns = ['Min time', 'Max time']\n",
    "sigma_columns = ['Geek Rating', 'Complexity', 'Avg rating', 'Num of voters']\n",
    "\n",
    "for col in quantile_columns:\n",
    "    mark_outliers_quantile(data, col)\n",
    "for col in sigma_columns:\n",
    "    mark_outliers_sigma(data, col)\n",
    "\n",
    "data = data[data['ToRemove'] == False].drop(columns=['ToRemove'])\n",
    "data = data[(data['Year'] >= 1950) & (data['Year'] < 2025) & (data['Complexity'] != 0.0)]\n",
    "\n",
    "bins = [0, 1, 2, 3, 4, 5, 6, 7, 8, 9, 10, 15, 20, float('inf')]\n",
    "labels = ['1', '2', '3', '4', '5', '6', '7', '8', '9', '10', '11-15', '16-20', '>20']\n",
    "data['Max_players_category'] = pd.cut(data['Max players'], bins=bins, labels=labels, include_lowest=True)\n",
    "data['Age_category'] = pd.cut(data['Age'], bins=bins, labels=labels, include_lowest=True)\n",
    "data['Min_players_category'] = data['Min players'].astype('category')\n",
    "data = data.drop(columns=['Age', 'Max players', 'Min players', 'Title'])\n",
    "data = pd.get_dummies(data, columns=['Type 1'], drop_first=True)\n",
    "\n",
    "data = data.apply(lambda col: col.cat.codes + 1 if col.dtype.name == 'category' else col)\n",
    "X, y = data.drop(columns=['Num of voters']), data['Num of voters']\n",
    "X_train_val, X_test, y_train_val, y_test = train_test_split(X, y, test_size=0.2, random_state=2137)\n",
    "X_train, X_val, y_train, y_val = train_test_split(X_train_val, y_train_val, test_size=0.2, random_state=2137)\n",
    "\n",
    "scaler = StandardScaler()\n",
    "X_train_scaled, X_val_scaled, X_test_scaled = scaler.fit_transform(X_train), scaler.transform(X_val), scaler.transform(X_test)\n",
    "\n",
    "def calculate_percentage_within_margin(y_true, y_pred, margin=0.1):\n",
    "    lower, upper = y_true * (1 - margin), y_true * (1 + margin)\n",
    "    return str(round((sum((y_pred >= lower) & (y_pred <= upper)) / len(y_true)) * 100, 2)) + \"%\"\n"
   ]
  },
  {
   "cell_type": "code",
   "execution_count": 15,
   "metadata": {},
   "outputs": [
    {
     "name": "stderr",
     "output_type": "stream",
     "text": [
      "c:\\Users\\tjast\\AppData\\Local\\Programs\\Python\\Python312\\Lib\\site-packages\\keras\\src\\saving\\saving_lib.py:576: UserWarning: Skipping variable loading for optimizer 'adam', because it has 2 variables whereas the saved optimizer has 14 variables. \n",
      "  saveable.load_own_variables(weights_store.get(inner_path))\n"
     ]
    },
    {
     "name": "stdout",
     "output_type": "stream",
     "text": [
      "Wagi załadowane z model_checkpoints/2_layers.weights.h5\n",
      "\u001b[1m125/125\u001b[0m \u001b[32m━━━━━━━━━━━━━━━━━━━━\u001b[0m\u001b[37m\u001b[0m \u001b[1m0s\u001b[0m 870us/step - loss: 65539.3750 - mean_absolute_error: 66.1840\n",
      "\u001b[1m125/125\u001b[0m \u001b[32m━━━━━━━━━━━━━━━━━━━━\u001b[0m\u001b[37m\u001b[0m \u001b[1m0s\u001b[0m 992us/step\n",
      "Loss: 43361.09375, MAE: 65.69286346435547, RMSE: 208.23326763512117, Accuracy within margin: 37.24%\n"
     ]
    }
   ],
   "source": [
    "\n",
    "model = keras.Sequential([\n",
    "    keras.Input(shape=(X_train_scaled.shape[1],)),\n",
    "    layers.Dense(64, activation='relu'),\n",
    "    layers.Dense(32, activation='relu'),\n",
    "    layers.Dense(1)\n",
    "])\n",
    "\n",
    "model.compile(optimizer='adam', loss='mse', metrics=[MeanAbsoluteError()])\n",
    "\n",
    "checkpoint_path = \"model_checkpoints/2_layers.weights.h5\"\n",
    "\n",
    "model.load_weights(checkpoint_path)\n",
    "print(f\"Wagi załadowane z {checkpoint_path}\")\n",
    "\n",
    "loss, mae = model.evaluate(X_test_scaled, y_test, verbose=1)\n",
    "\n",
    "y_pred = model.predict(X_test_scaled).flatten()\n",
    "\n",
    "rmse = np.sqrt(loss)\n",
    "\n",
    "margin_accuracy = calculate_percentage_within_margin(y_test, y_pred)\n",
    "\n",
    "print(f'Loss: {loss}, MAE: {mae}, RMSE: {rmse}, Accuracy within margin: {margin_accuracy}')"
   ]
  },
  {
   "cell_type": "code",
   "execution_count": 16,
   "metadata": {},
   "outputs": [
    {
     "name": "stdout",
     "output_type": "stream",
     "text": [
      "Wagi załadowane z model_checkpoints/4_layers.weights.h5\n",
      "\u001b[1m  1/125\u001b[0m \u001b[37m━━━━━━━━━━━━━━━━━━━━\u001b[0m \u001b[1m14s\u001b[0m 118ms/step - loss: 3608.7910 - mean_absolute_error: 41.0372"
     ]
    },
    {
     "name": "stderr",
     "output_type": "stream",
     "text": [
      "c:\\Users\\tjast\\AppData\\Local\\Programs\\Python\\Python312\\Lib\\site-packages\\keras\\src\\saving\\saving_lib.py:576: UserWarning: Skipping variable loading for optimizer 'adam', because it has 2 variables whereas the saved optimizer has 22 variables. \n",
      "  saveable.load_own_variables(weights_store.get(inner_path))\n"
     ]
    },
    {
     "name": "stdout",
     "output_type": "stream",
     "text": [
      "\u001b[1m125/125\u001b[0m \u001b[32m━━━━━━━━━━━━━━━━━━━━\u001b[0m\u001b[37m\u001b[0m \u001b[1m0s\u001b[0m 871us/step - loss: 58188.5742 - mean_absolute_error: 64.3757\n",
      "\u001b[1m125/125\u001b[0m \u001b[32m━━━━━━━━━━━━━━━━━━━━\u001b[0m\u001b[37m\u001b[0m \u001b[1m0s\u001b[0m 1ms/step  \n",
      "Loss: 41140.02734375, MAE: 66.05250549316406, RMSE: 202.83004546602558, Accuracy within margin: 40.21%\n"
     ]
    }
   ],
   "source": [
    "model = keras.Sequential([\n",
    "    keras.Input(shape=(X_train_scaled.shape[1],)),\n",
    "    layers.Dense(64, activation='relu'),\n",
    "    layers.Dense(32, activation='relu'),\n",
    "    layers.Dense(16, activation='relu'),\n",
    "    layers.Dense(8, activation='relu'),\n",
    "    layers.Dense(1)\n",
    "])\n",
    "\n",
    "model.compile(optimizer='adam', loss='mse', metrics=[MeanAbsoluteError()])\n",
    "\n",
    "checkpoint_path = \"model_checkpoints/4_layers.weights.h5\"\n",
    "\n",
    "model.load_weights(checkpoint_path)\n",
    "print(f\"Wagi załadowane z {checkpoint_path}\")\n",
    "\n",
    "loss, mae = model.evaluate(X_test_scaled, y_test, verbose=1)\n",
    "\n",
    "y_pred = model.predict(X_test_scaled).flatten()\n",
    "\n",
    "rmse = np.sqrt(loss)\n",
    "\n",
    "margin_accuracy = calculate_percentage_within_margin(y_test, y_pred)\n",
    "\n",
    "print(f'Loss: {loss}, MAE: {mae}, RMSE: {rmse}, Accuracy within margin: {margin_accuracy}')"
   ]
  },
  {
   "cell_type": "code",
   "execution_count": 17,
   "metadata": {},
   "outputs": [
    {
     "name": "stdout",
     "output_type": "stream",
     "text": [
      "Wagi załadowane z model_checkpoints/5_layers.weights.h5\n",
      "\u001b[1m  1/125\u001b[0m \u001b[37m━━━━━━━━━━━━━━━━━━━━\u001b[0m \u001b[1m17s\u001b[0m 141ms/step - loss: 3528.3572 - mean_absolute_error: 40.0068"
     ]
    },
    {
     "name": "stderr",
     "output_type": "stream",
     "text": [
      "c:\\Users\\tjast\\AppData\\Local\\Programs\\Python\\Python312\\Lib\\site-packages\\keras\\src\\saving\\saving_lib.py:576: UserWarning: Skipping variable loading for optimizer 'adam', because it has 2 variables whereas the saved optimizer has 26 variables. \n",
      "  saveable.load_own_variables(weights_store.get(inner_path))\n"
     ]
    },
    {
     "name": "stdout",
     "output_type": "stream",
     "text": [
      "\u001b[1m125/125\u001b[0m \u001b[32m━━━━━━━━━━━━━━━━━━━━\u001b[0m\u001b[37m\u001b[0m \u001b[1m0s\u001b[0m 927us/step - loss: 60478.0312 - mean_absolute_error: 58.8270\n",
      "\u001b[1m125/125\u001b[0m \u001b[32m━━━━━━━━━━━━━━━━━━━━\u001b[0m\u001b[37m\u001b[0m \u001b[1m0s\u001b[0m 1ms/step\n",
      "Loss: 40519.5546875, MAE: 58.18440628051758, RMSE: 201.2946961236187, Accuracy within margin: 41.29%\n"
     ]
    }
   ],
   "source": [
    "\n",
    "model = Sequential([\n",
    "    layers.Input(shape=(X_train_scaled.shape[1],)),\n",
    "    layers.Dense(128, activation='relu'),\n",
    "    layers.Dense(64, activation='relu'),\n",
    "    layers.Dense(32, activation='relu'),\n",
    "    layers.Dense(16, activation='relu'),\n",
    "    layers.Dense(8, activation='relu'),\n",
    "    layers.Dense(1)\n",
    "])\n",
    "\n",
    "model.compile(optimizer='adam', loss='mse', metrics=[MeanAbsoluteError()])\n",
    "\n",
    "checkpoint_path = \"model_checkpoints/5_layers.weights.h5\"\n",
    "\n",
    "model.load_weights(checkpoint_path)\n",
    "print(f\"Wagi załadowane z {checkpoint_path}\")\n",
    "\n",
    "loss, mae = model.evaluate(X_test_scaled, y_test, verbose=1)\n",
    "\n",
    "y_pred = model.predict(X_test_scaled).flatten()\n",
    "\n",
    "rmse = np.sqrt(loss)\n",
    "\n",
    "margin_accuracy = calculate_percentage_within_margin(y_test, y_pred)\n",
    "\n",
    "print(f'Loss: {loss}, MAE: {mae}, RMSE: {rmse}, Accuracy within margin: {margin_accuracy}')\n"
   ]
  },
  {
   "cell_type": "code",
   "execution_count": 18,
   "metadata": {},
   "outputs": [
    {
     "name": "stdout",
     "output_type": "stream",
     "text": [
      "Wagi załadowane z model_checkpoints/6_layers.weights.h5\n",
      "\u001b[1m  1/125\u001b[0m \u001b[37m━━━━━━━━━━━━━━━━━━━━\u001b[0m \u001b[1m19s\u001b[0m 155ms/step - loss: 5082.1230 - mean_absolute_error: 46.7018"
     ]
    },
    {
     "name": "stderr",
     "output_type": "stream",
     "text": [
      "c:\\Users\\tjast\\AppData\\Local\\Programs\\Python\\Python312\\Lib\\site-packages\\keras\\src\\saving\\saving_lib.py:576: UserWarning: Skipping variable loading for optimizer 'adam', because it has 2 variables whereas the saved optimizer has 30 variables. \n",
      "  saveable.load_own_variables(weights_store.get(inner_path))\n"
     ]
    },
    {
     "name": "stdout",
     "output_type": "stream",
     "text": [
      "\u001b[1m125/125\u001b[0m \u001b[32m━━━━━━━━━━━━━━━━━━━━\u001b[0m\u001b[37m\u001b[0m \u001b[1m0s\u001b[0m 1ms/step - loss: 48353.4453 - mean_absolute_error: 58.1289\n",
      "\u001b[1m125/125\u001b[0m \u001b[32m━━━━━━━━━━━━━━━━━━━━\u001b[0m\u001b[37m\u001b[0m \u001b[1m0s\u001b[0m 1ms/step\n",
      "Loss: 34706.11328125, MAE: 58.034706115722656, RMSE: 186.29576828594364, Accuracy within margin: 42.65%\n"
     ]
    }
   ],
   "source": [
    "\n",
    "model = Sequential([\n",
    "    layers.Input(shape=(X_train_scaled.shape[1],)),\n",
    "    layers.Dense(256, activation='relu'),\n",
    "    layers.Dense(128, activation='relu'),\n",
    "    layers.Dense(64, activation='relu'),\n",
    "    layers.Dense(32, activation='relu'),\n",
    "    layers.Dense(16, activation='relu'),\n",
    "    layers.Dense(8, activation='relu'),\n",
    "    layers.Dense(1)\n",
    "])\n",
    "\n",
    "model.compile(optimizer='adam', loss='mse', metrics=[MeanAbsoluteError()])\n",
    "\n",
    "checkpoint_path = \"model_checkpoints/6_layers.weights.h5\"\n",
    "\n",
    "model.load_weights(checkpoint_path)\n",
    "print(f\"Wagi załadowane z {checkpoint_path}\")\n",
    "\n",
    "loss, mae = model.evaluate(X_test_scaled, y_test, verbose=1)\n",
    "\n",
    "y_pred = model.predict(X_test_scaled).flatten()\n",
    "\n",
    "rmse = np.sqrt(loss)\n",
    "\n",
    "margin_accuracy = calculate_percentage_within_margin(y_test, y_pred)\n",
    "\n",
    "print(f'Loss: {loss}, MAE: {mae}, RMSE: {rmse}, Accuracy within margin: {margin_accuracy}')\n"
   ]
  },
  {
   "cell_type": "code",
   "execution_count": 19,
   "metadata": {},
   "outputs": [
    {
     "name": "stdout",
     "output_type": "stream",
     "text": [
      "Wagi załadowane z model_checkpoints/8_layers.weights.h5\n"
     ]
    },
    {
     "name": "stderr",
     "output_type": "stream",
     "text": [
      "c:\\Users\\tjast\\AppData\\Local\\Programs\\Python\\Python312\\Lib\\site-packages\\keras\\src\\saving\\saving_lib.py:576: UserWarning: Skipping variable loading for optimizer 'adam', because it has 2 variables whereas the saved optimizer has 38 variables. \n",
      "  saveable.load_own_variables(weights_store.get(inner_path))\n"
     ]
    },
    {
     "name": "stdout",
     "output_type": "stream",
     "text": [
      "\u001b[1m125/125\u001b[0m \u001b[32m━━━━━━━━━━━━━━━━━━━━\u001b[0m\u001b[37m\u001b[0m \u001b[1m0s\u001b[0m 2ms/step - loss: 67560.3047 - mean_absolute_error: 66.5326\n",
      "\u001b[1m125/125\u001b[0m \u001b[32m━━━━━━━━━━━━━━━━━━━━\u001b[0m\u001b[37m\u001b[0m \u001b[1m0s\u001b[0m 2ms/step\n",
      "Loss: 44285.11328125, MAE: 66.08032989501953, RMSE: 210.44028435936406, Accuracy within margin: 33.72%\n"
     ]
    }
   ],
   "source": [
    "\n",
    "\n",
    "model = keras.Sequential([\n",
    "    keras.Input(shape=(X_train_scaled.shape[1],)),\n",
    "    layers.Dense(1028, activation='relu'),\n",
    "    layers.Dense(512, activation='relu'),\n",
    "    layers.Dense(256, activation='relu'),\n",
    "    layers.Dense(128, activation='relu'),\n",
    "    layers.Dense(64, activation='relu'),\n",
    "    layers.Dense(32, activation='relu'),\n",
    "    layers.Dense(16, activation='relu'),\n",
    "    layers.Dense(8, activation='relu'),\n",
    "    layers.Dense(1)\n",
    "])\n",
    "\n",
    "model.compile(optimizer='adam', loss='mse', metrics=[MeanAbsoluteError()])\n",
    "\n",
    "checkpoint_path = \"model_checkpoints/8_layers.weights.h5\"\n",
    "\n",
    "model.load_weights(checkpoint_path)\n",
    "print(f\"Wagi załadowane z {checkpoint_path}\")\n",
    "\n",
    "loss, mae = model.evaluate(X_test_scaled, y_test, verbose=1)\n",
    "\n",
    "y_pred = model.predict(X_test_scaled).flatten()\n",
    "\n",
    "rmse = np.sqrt(loss)\n",
    "\n",
    "margin_accuracy = calculate_percentage_within_margin(y_test, y_pred)\n",
    "\n",
    "print(f'Loss: {loss}, MAE: {mae}, RMSE: {rmse}, Accuracy within margin: {margin_accuracy}')\n"
   ]
  },
  {
   "cell_type": "code",
   "execution_count": 22,
   "metadata": {},
   "outputs": [
    {
     "name": "stdout",
     "output_type": "stream",
     "text": [
      "Wagi załadowane z model_checkpoints/6_layers_learning_rate_schedule.weights.h5\n",
      "\u001b[1m125/125\u001b[0m \u001b[32m━━━━━━━━━━━━━━━━━━━━\u001b[0m\u001b[37m\u001b[0m \u001b[1m0s\u001b[0m 1ms/step - loss: 61499.9180 - mean_absolute_error: 64.0226\n",
      "\u001b[1m125/125\u001b[0m \u001b[32m━━━━━━━━━━━━━━━━━━━━\u001b[0m\u001b[37m\u001b[0m \u001b[1m0s\u001b[0m 1ms/step \n",
      "Loss: 45853.875, MAE: 64.36234283447266, RMSE: 214.13517926767662, Accuracy within margin: 37.02%\n"
     ]
    }
   ],
   "source": [
    "\n",
    "model = Sequential([\n",
    "    layers.Input(shape=(X_train_scaled.shape[1],)),\n",
    "    layers.Dense(256, activation='relu'),\n",
    "    layers.Dense(128, activation='relu'),\n",
    "    layers.Dense(64, activation='relu'),\n",
    "    layers.Dense(32, activation='relu'),\n",
    "    layers.Dense(16, activation='relu'),\n",
    "    layers.Dense(8, activation='relu'),\n",
    "    layers.Dense(1)\n",
    "])\n",
    "\n",
    "model.compile(optimizer='adam', loss='mse', metrics=[MeanAbsoluteError()])\n",
    "\n",
    "checkpoint_path = \"model_checkpoints/6_layers_learning_rate_schedule.weights.h5\"\n",
    "\n",
    "model.load_weights(checkpoint_path)\n",
    "print(f\"Wagi załadowane z {checkpoint_path}\")\n",
    "\n",
    "loss, mae = model.evaluate(X_test_scaled, y_test, verbose=1)\n",
    "\n",
    "y_pred = model.predict(X_test_scaled).flatten()\n",
    "\n",
    "rmse = np.sqrt(loss)\n",
    "\n",
    "margin_accuracy = calculate_percentage_within_margin(y_test, y_pred)\n",
    "\n",
    "print(f'Loss: {loss}, MAE: {mae}, RMSE: {rmse}, Accuracy within margin: {margin_accuracy}')\n"
   ]
  }
 ],
 "metadata": {
  "kernelspec": {
   "display_name": "Python 3",
   "language": "python",
   "name": "python3"
  },
  "language_info": {
   "codemirror_mode": {
    "name": "ipython",
    "version": 3
   },
   "file_extension": ".py",
   "mimetype": "text/x-python",
   "name": "python",
   "nbconvert_exporter": "python",
   "pygments_lexer": "ipython3",
   "version": "3.12.6"
  }
 },
 "nbformat": 4,
 "nbformat_minor": 2
}
